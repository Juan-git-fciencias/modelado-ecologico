{
 "cells": [
  {
   "cell_type": "markdown",
   "id": "8d573227",
   "metadata": {},
   "source": [
    "# Ejercicios - Juan José Reyes Celis "
   ]
  },
  {
   "cell_type": "markdown",
   "id": "969f8523",
   "metadata": {},
   "source": [
    "### Install packages"
   ]
  },
  {
   "cell_type": "code",
   "execution_count": null,
   "id": "e3b5e7b5",
   "metadata": {},
   "outputs": [
    {
     "name": "stdout",
     "output_type": "stream",
     "text": [
      "Hello, World!\n"
     ]
    }
   ],
   "source": [
    "import numpy as np\n",
    "import pandas as  pd"
   ]
  },
  {
   "cell_type": "markdown",
   "id": "51941f8a",
   "metadata": {},
   "source": [
    "### Week one: print \"Hello world!\", basic operations and function"
   ]
  },
  {
   "cell_type": "code",
   "execution_count": 4,
   "id": "26764c50",
   "metadata": {},
   "outputs": [
    {
     "name": "stdout",
     "output_type": "stream",
     "text": [
      "Hello, World!\n",
      "76696\n",
      "2050\n",
      "1469518479\n",
      "0.9479338633073426\n",
      "5\n"
     ]
    }
   ],
   "source": [
    "# Week one: Print \"Hello World\" and basic operations\n",
    "print(\"Hello, World!\")\n",
    "# Basic arithmetic operations\n",
    "# Define two variables\n",
    "a = 37323\n",
    "b = 39373\n",
    "# Adittion\n",
    "print(a+b)\n",
    "# Substraction\n",
    "print(b-a)\n",
    "# Multiplication\n",
    "print(a*b)\n",
    "# Division\n",
    "print(a/b)\n",
    "# Absolute value of a number\n",
    "def valor_absoluto(x):\n",
    "    return x if x >= 0 else -x \n",
    "print(valor_absoluto(-5))"
   ]
  },
  {
   "cell_type": "code",
   "execution_count": null,
   "id": "61402650",
   "metadata": {},
   "outputs": [],
   "source": []
  }
 ],
 "metadata": {
  "kernelspec": {
   "display_name": "base",
   "language": "python",
   "name": "python3"
  },
  "language_info": {
   "codemirror_mode": {
    "name": "ipython",
    "version": 3
   },
   "file_extension": ".py",
   "mimetype": "text/x-python",
   "name": "python",
   "nbconvert_exporter": "python",
   "pygments_lexer": "ipython3",
   "version": "3.12.7"
  }
 },
 "nbformat": 4,
 "nbformat_minor": 5
}
