{
 "cells": [
  {
   "cell_type": "markdown",
   "id": "8d573227",
   "metadata": {},
   "source": [
    "# Ejercicios - Juan José Reyes Celis "
   ]
  },
  {
   "cell_type": "markdown",
   "id": "969f8523",
   "metadata": {},
   "source": [
    "### Import packages"
   ]
  },
  {
   "cell_type": "code",
   "execution_count": 2,
   "id": "e3b5e7b5",
   "metadata": {},
   "outputs": [],
   "source": [
    "import numpy as np\n",
    "import pandas as  pd\n",
    "import matplotlib.pyplot as plt"
   ]
  },
  {
   "cell_type": "markdown",
   "id": "51941f8a",
   "metadata": {},
   "source": [
    "### Week one: print \"Hello world!\", basic operations and function"
   ]
  },
  {
   "cell_type": "code",
   "execution_count": 4,
   "id": "26764c50",
   "metadata": {},
   "outputs": [
    {
     "name": "stdout",
     "output_type": "stream",
     "text": [
      "Hello, World!\n",
      "76696\n",
      "2050\n",
      "1469518479\n",
      "0.9479338633073426\n",
      "5\n"
     ]
    }
   ],
   "source": [
    "# Week one: Print \"Hello World\" and basic operations\n",
    "print(\"Hello, World!\")\n",
    "# Basic arithmetic operations\n",
    "# Define two variables\n",
    "a = 37323\n",
    "b = 39373\n",
    "# Adittion\n",
    "print(a+b)\n",
    "# Substraction\n",
    "print(b-a)\n",
    "# Multiplication\n",
    "print(a*b)\n",
    "# Division\n",
    "print(a/b)\n",
    "# Absolute value of a number\n",
    "def valor_absoluto(x):\n",
    "    return x if x >= 0 else -x \n",
    "print(valor_absoluto(-5))"
   ]
  },
  {
   "cell_type": "markdown",
   "id": "a0192ca5",
   "metadata": {},
   "source": [
    "### Week two: Missing values, descripyive statistics plots, normality test and non-parametric tests"
   ]
  },
  {
   "cell_type": "markdown",
   "id": "adcc8842",
   "metadata": {},
   "source": [
    "### 1. Missing values"
   ]
  },
  {
   "cell_type": "code",
   "execution_count": null,
   "id": "61402650",
   "metadata": {},
   "outputs": [
    {
     "name": "stdout",
     "output_type": "stream",
     "text": [
      "   sample      date     estuary   area station layer_depth season  \\\n",
      "0  CDL01S  5/3/2020  Candelaria  River   CDL01     Surface    Dry   \n",
      "1  CDL01F  5/3/2020  Candelaria  River   CDL01      Bottom    Dry   \n",
      "2  CDL02S  5/3/2020  Candelaria  River   CDL02     Surface    Dry   \n",
      "3  CDL02F  5/3/2020  Candelaria  River   CDL02      Bottom    Dry   \n",
      "4  CDL03S  5/3/2020  Candelaria  River   CDL03     Surface    Dry   \n",
      "\n",
      "   chlorophy_microg_l  cond_microsiemens_cm  depth_m  ...  do_mg_l  sal_psu  \\\n",
      "0                0.36                7015.4    0.464  ...     7.12     3.56   \n",
      "1                4.19               29886.1    7.792  ...     4.90    16.97   \n",
      "2                0.92               16691.1    0.453  ...     6.99     8.94   \n",
      "3                2.23               24847.4    1.261  ...     6.52    13.87   \n",
      "4                0.58               46341.6    0.465  ...     6.24    28.06   \n",
      "\n",
      "   sp_cond_microsiemens_cm  turbidity_fnu  temp_c  latitude  longitude  \\\n",
      "0                   6547.7           1.47  28.740  18.55736  -91.25012   \n",
      "1                  27751.2          95.33  29.028  18.55722  -91.24990   \n",
      "2                  15429.1           5.50  29.283  18.61007  -91.24410   \n",
      "3                  23074.0          13.44  29.024  18.61005  -91.24403   \n",
      "4                  43670.8           3.60  28.202  18.63166  -91.29359   \n",
      "\n",
      "   dic_micromol_kg  ta_micromol_kg  dummy_data  \n",
      "0             3915            3863      3685.0  \n",
      "1             3698            3685         NaN  \n",
      "2             3724            3708      3708.0  \n",
      "3             3667            3992      3992.0  \n",
      "4             2928            3023      3023.0  \n",
      "\n",
      "[5 rows x 21 columns]\n",
      "     sample       date   estuary   area station layer_depth season  \\\n",
      "101  PLZ07F  10/2/2021  Palizada  Coast   PLZ07      Bottom    Dry   \n",
      "102  PLZ08S  10/2/2021  Palizada  Coast   PLZ08     Surface    Dry   \n",
      "103  PLZ08F  10/2/2021  Palizada  Coast   PLZ08      Bottom    Dry   \n",
      "104  PLZ09S  10/2/2021  Palizada  Coast   PLZ09     Surface    Dry   \n",
      "105  PLZ09F  10/2/2021  Palizada  Coast   PLZ09      Bottom    Dry   \n",
      "\n",
      "     chlorophy_microg_l  cond_microsiemens_cm  depth_m  ...  do_mg_l  sal_psu  \\\n",
      "101                8.37               36889.2    2.829  ...     7.92    22.81   \n",
      "102                2.73               37133.6    0.363  ...     8.39    22.57   \n",
      "103                9.27               39340.8    5.185  ...     7.89    24.53   \n",
      "104                3.71               37034.5    0.384  ...     8.62    22.57   \n",
      "105               17.81               43416.8    4.069  ...     5.06    27.52   \n",
      "\n",
      "     sp_cond_microsiemens_cm  turbidity_fnu  temp_c  latitude  longitude  \\\n",
      "101                  36170.8          56.65  26.040  18.58745  -91.83044   \n",
      "102                  35851.5           5.90  26.872  18.64028  -91.86907   \n",
      "103                  38622.9         173.00  25.973  18.63984  -91.86890   \n",
      "104                  35851.9           9.18  26.727  18.66676  -91.90047   \n",
      "105                  42833.8         890.51  25.713  18.66452  -91.90119   \n",
      "\n",
      "     dic_micromol_kg  ta_micromol_kg  dummy_data  \n",
      "101             2715            2851      2851.0  \n",
      "102             2638            2837      2837.0  \n",
      "103             2608            2857      2857.0  \n",
      "104             2605            2804      2804.0  \n",
      "105             2542            2780      2780.0  \n",
      "\n",
      "[5 rows x 21 columns]\n",
      "<class 'pandas.core.frame.DataFrame'>\n",
      "RangeIndex: 106 entries, 0 to 105\n",
      "Data columns (total 21 columns):\n",
      " #   Column                   Non-Null Count  Dtype  \n",
      "---  ------                   --------------  -----  \n",
      " 0   sample                   106 non-null    object \n",
      " 1   date                     106 non-null    object \n",
      " 2   estuary                  106 non-null    object \n",
      " 3   area                     106 non-null    object \n",
      " 4   station                  106 non-null    object \n",
      " 5   layer_depth              106 non-null    object \n",
      " 6   season                   106 non-null    object \n",
      " 7   chlorophy_microg_l       106 non-null    float64\n",
      " 8   cond_microsiemens_cm     106 non-null    float64\n",
      " 9   depth_m                  106 non-null    float64\n",
      " 10  do_percent_sat           106 non-null    float64\n",
      " 11  do_mg_l                  106 non-null    float64\n",
      " 12  sal_psu                  106 non-null    float64\n",
      " 13  sp_cond_microsiemens_cm  106 non-null    float64\n",
      " 14  turbidity_fnu            106 non-null    float64\n",
      " 15  temp_c                   106 non-null    float64\n",
      " 16  latitude                 106 non-null    float64\n",
      " 17  longitude                106 non-null    float64\n",
      " 18  dic_micromol_kg          106 non-null    int64  \n",
      " 19  ta_micromol_kg           106 non-null    int64  \n",
      " 20  dummy_data               99 non-null     float64\n",
      "dtypes: float64(12), int64(2), object(7)\n",
      "memory usage: 17.5+ KB\n",
      "None\n",
      "   sample      date     estuary   area station layer_depth season  \\\n",
      "0  CDL01S  5/3/2020  Candelaria  River   CDL01     Surface    Dry   \n",
      "1  CDL01F  5/3/2020  Candelaria  River   CDL01      Bottom    Dry   \n",
      "2  CDL02S  5/3/2020  Candelaria  River   CDL02     Surface    Dry   \n",
      "3  CDL02F  5/3/2020  Candelaria  River   CDL02      Bottom    Dry   \n",
      "4  CDL03S  5/3/2020  Candelaria  River   CDL03     Surface    Dry   \n",
      "5  CDL03F  5/3/2020  Candelaria  River   CDL03      Bottom    Dry   \n",
      "\n",
      "   chlorophy_microg_l  cond_microsiemens_cm  depth_m  ...  sal_psu  \\\n",
      "0                0.36                7015.4    0.464  ...     3.56   \n",
      "1                4.19               29886.1    7.792  ...    16.97   \n",
      "2                0.92               16691.1    0.453  ...     8.94   \n",
      "3                2.23               24847.4    1.261  ...    13.87   \n",
      "4                0.58               46341.6    0.465  ...    28.06   \n",
      "5               22.49               39453.4    1.867  ...    24.01   \n",
      "\n",
      "   sp_cond_microsiemens_cm  turbidity_fnu  temp_c  latitude  longitude  \\\n",
      "0                   6547.7           1.47  28.740  18.55736  -91.25012   \n",
      "1                  27751.2          95.33  29.028  18.55722  -91.24990   \n",
      "2                  15429.1           5.50  29.283  18.61007  -91.24410   \n",
      "3                  23074.0          13.44  29.024  18.61005  -91.24403   \n",
      "4                  43670.8           3.60  28.202  18.63166  -91.29359   \n",
      "5                  37919.1         108.11  27.118  18.63163  -91.29297   \n",
      "\n",
      "   dic_micromol_kg  ta_micromol_kg  dummy_data  TA_DIC_ratio  \n",
      "0             3915            3863      3685.0      0.986718  \n",
      "1             3698            3685         NaN      0.996485  \n",
      "2             3724            3708      3708.0      0.995704  \n",
      "3             3667            3992      3992.0      1.088628  \n",
      "4             2928            3023      3023.0      1.032445  \n",
      "5             2752            2849      2849.0      1.035247  \n",
      "\n",
      "[6 rows x 22 columns]\n",
      "0    Dry\n",
      "1    Dry\n",
      "2    Dry\n",
      "3    Dry\n",
      "4    Dry\n",
      "Name: season, dtype: object\n",
      "season\n",
      "Dry      1.058558\n",
      "Rainy    1.022350\n",
      "Name: TA_DIC_ratio, dtype: float64\n",
      "area\n",
      "Coast    1.107219\n",
      "Plume    1.048956\n",
      "River    0.982934\n",
      "Name: TA_DIC_ratio, dtype: float64\n",
      "season\n",
      "Dry      0.086111\n",
      "Rainy    0.100924\n",
      "Name: TA_DIC_ratio, dtype: float64\n",
      "area\n",
      "Coast    0.118867\n",
      "Plume    0.042747\n",
      "River    0.042663\n",
      "Name: TA_DIC_ratio, dtype: float64\n",
      "       season_mean  area_mean  season_std  area_std\n",
      "Coast          NaN   1.107219         NaN  0.118867\n",
      "Dry       1.058558        NaN    0.086111       NaN\n",
      "Plume          NaN   1.048956         NaN  0.042747\n",
      "Rainy     1.022350        NaN    0.100924       NaN\n",
      "River          NaN   0.982934         NaN  0.042663\n"
     ]
    }
   ],
   "source": [
    "# Import dataset \n",
    "df = pd.read_csv(\"Terminos_lagoon_TA_DIC_2023_RawData.csv\")\n",
    "print(df.head(5))\n",
    "print(df.tail(5))\n",
    "print(df.info())\n",
    "# New column \"TA_DIC_ratio\"\n",
    "df[\"TA_DIC_ratio\"] = df[\"ta_micromol_kg\"]/df[\"dic_micromol_kg\"]\n",
    "print(df.head(6))\n",
    "# Mean of \"TA_DIC_ratio\" per season \n",
    "print(df[\"season\"].head())\n",
    "season_mean = df.groupby(\"season\")[\"TA_DIC_ratio\"].mean()\n",
    "print(season_mean)\n",
    "# Mean of \"TA_DIC_ratio\"per area\n",
    "area_mean = df.groupby(\"area\")[\"TA_DIC_ratio\"].mean()\n",
    "print(area_mean)\n",
    "# Std of \"TA_DIC_ratio\" per season and area\n",
    "season_std = df.groupby(\"season\")[\"TA_DIC_ratio\"].std()\n",
    "print(season_std)\n",
    "area_std = df.groupby(\"area\")[\"TA_DIC_ratio\"].std()\n",
    "print(area_std)\n",
    "# Create dataframe with objects\n",
    "TA_DIC_Season_Areas = pd.DataFrame({\n",
    "    \"season_mean\": season_mean,\n",
    "    \"area_mean\": area_mean, \n",
    "    \"season_std\": season_std,\n",
    "    \"area_std\": area_std,\n",
    "})\n",
    "print(TA_DIC_Season_Areas)\n",
    "# Crearte excel with results \n",
    "TA_DIC_Season_Areas.to_excel(\"TA_DIC_Season_Area.xlsx\", sheet_name=\"Hoja 1\", index=True)\n",
    "\n"
   ]
  },
  {
   "cell_type": "markdown",
   "id": "b36ac025",
   "metadata": {},
   "source": [
    "### 2. Descriptive plots "
   ]
  },
  {
   "cell_type": "code",
   "execution_count": null,
   "id": "528d806d",
   "metadata": {},
   "outputs": [
    {
     "name": "stdout",
     "output_type": "stream",
     "text": [
      "   sample      date     estuary   area station layer_depth season  \\\n",
      "0  CDL01S  5/3/2020  Candelaria  River   CDL01     Surface    Dry   \n",
      "1  CDL01F  5/3/2020  Candelaria  River   CDL01      Bottom    Dry   \n",
      "2  CDL02S  5/3/2020  Candelaria  River   CDL02     Surface    Dry   \n",
      "3  CDL02F  5/3/2020  Candelaria  River   CDL02      Bottom    Dry   \n",
      "\n",
      "   chlorophy_microg_l  cond_microsiemens_cm  depth_m  ...  do_mg_l  sal_psu  \\\n",
      "0                0.36                7015.4    0.464  ...     7.12     3.56   \n",
      "1                4.19               29886.1    7.792  ...     4.90    16.97   \n",
      "2                0.92               16691.1    0.453  ...     6.99     8.94   \n",
      "3                2.23               24847.4    1.261  ...     6.52    13.87   \n",
      "\n",
      "   sp_cond_microsiemens_cm  turbidity_fnu  temp_c  latitude  longitude  \\\n",
      "0                   6547.7           1.47  28.740  18.55736  -91.25012   \n",
      "1                  27751.2          95.33  29.028  18.55722  -91.24990   \n",
      "2                  15429.1           5.50  29.283  18.61007  -91.24410   \n",
      "3                  23074.0          13.44  29.024  18.61005  -91.24403   \n",
      "\n",
      "   dic_micromol_kg  ta_micromol_kg  dummy_data  \n",
      "0             3915            3863      3685.0  \n",
      "1             3698            3685         NaN  \n",
      "2             3724            3708      3708.0  \n",
      "3             3667            3992      3992.0  \n",
      "\n",
      "[4 rows x 21 columns]\n"
     ]
    },
    {
     "data": {
      "image/png": "[encoded data removed]",
      "text/plain": [
       "<Figure size 640x480 with 1 Axes>"
      ]
     },
     "metadata": {},
     "output_type": "display_data"
    },
    {
     "data": {
      "image/png": "[encoded data removed]",
      "text/plain": [
       "<Figure size 1000x400 with 2 Axes>"
      ]
     },
     "metadata": {},
     "output_type": "display_data"
    },
    {
     "name": "stdout",
     "output_type": "stream",
     "text": [
      "[<Axes: title={'center': 'Histogram: dic_micromol_kg'}>\n",
      " <Axes: title={'center': 'Histograma: ta_micromol_kg'}>]\n"
     ]
    }
   ],
   "source": [
    "# Import dataset \n",
    "df = pd.read_csv(\"Terminos_lagoon_TA_DIC_2023_RawData.csv\")\n",
    "print(df.head(4))\n",
    "# Plot histogram of DIC and TAC \n",
    "df[\"dic_micromol_kg\"].plot.hist(alpha=0.5, bins=10)\n",
    "df[\"ta_micromol_kg\"].plot.hist(alpha=0.5, bins=10)\n",
    "plt.xlabel(\"Valores\")\n",
    "plt.ylabel(\"Frecuencia\")\n",
    "plt.title(\"Histogramas comparados\")\n",
    "plt.legend()\n",
    "plt.show()\n",
    "# Individual plot of DIC and TAC \n",
    "fig, axes = plt.subplots(1, 2, figsize=(10,4))\n",
    "\n",
    "axes[0].hist(df[\"dic_micromol_kg\"], bins=10, color='blue', alpha=0.7)\n",
    "axes[0].set_title(\"Histogram: dic_micromol_kg\")\n",
    "\n",
    "axes[1].hist(df[\"ta_micromol_kg\"], bins=10, color='green', alpha=0.7)\n",
    "axes[1].set_title(\"Histograma: ta_micromol_kg\")\n",
    "\n",
    "plt.tight_layout()\n",
    "plt.show()\n",
    "\n"
   ]
  },
  {
   "cell_type": "code",
   "execution_count": null,
   "id": "ec39d6ce",
   "metadata": {},
   "outputs": [],
   "source": []
  }
 ],
 "metadata": {
  "kernelspec": {
   "display_name": "base",
   "language": "python",
   "name": "python3"
  },
  "language_info": {
   "codemirror_mode": {
    "name": "ipython",
    "version": 3
   },
   "file_extension": ".py",
   "mimetype": "text/x-python",
   "name": "python",
   "nbconvert_exporter": "python",
   "pygments_lexer": "ipython3",
   "version": "3.12.7"
  }
 },
 "nbformat": 4,
 "nbformat_minor": 5
}
